{
 "cells": [
  {
   "cell_type": "markdown",
   "metadata": {
    "id": "1SdiYblJx2ao"
   },
   "source": [
    "# Create covisitation matrices to be used in candidate generation #\n",
    "We create three types of covisitation matrix:\n",
    "1. What else did people who clicked/carted/ordered the focal product also click/cart/order weighted to those occuring more recently in the data\n",
    "2. What else did people who clicked/carted/ordered the focal product also click/cart/order weighted to items being carted and ordered. \n",
    "3. What else did people who carted/ordered the product also cart/order. \n",
    "\n",
    "The joining operations are memory intensive so we split the dataframe into chunks and work through piecewise to avoid running out of ram.\n",
    "\n",
    "This process is inspired by this kaggle post: https://www.kaggle.com/code/cdeotte/candidate-rerank-model-lb-0-575"
   ]
  },
  {
   "cell_type": "code",
   "execution_count": 2,
   "metadata": {},
   "outputs": [
    {
     "name": "stdout",
     "output_type": "stream",
     "text": [
      "/home/jupyter/kaggle-otto-recommender-2022\n"
     ]
    }
   ],
   "source": [
    "%cd kaggle-otto-recommender-2022/"
   ]
  },
  {
   "cell_type": "code",
   "execution_count": 5,
   "metadata": {},
   "outputs": [],
   "source": [
    "# !rm -rf train_candidate_features/"
   ]
  },
  {
   "cell_type": "markdown",
   "metadata": {},
   "source": [
    "# Config "
   ]
  },
  {
   "cell_type": "code",
   "execution_count": 33,
   "metadata": {},
   "outputs": [],
   "source": [
    "from config import local, data_path, path_to_module\n",
    "\n",
    "sample_prop = None\n",
    "validation = True"
   ]
  },
  {
   "cell_type": "code",
   "execution_count": 34,
   "metadata": {},
   "outputs": [
    {
     "data": {
      "text/plain": [
       "False"
      ]
     },
     "execution_count": 34,
     "metadata": {},
     "output_type": "execute_result"
    }
   ],
   "source": [
    "local"
   ]
  },
  {
   "cell_type": "code",
   "execution_count": 35,
   "metadata": {},
   "outputs": [
    {
     "data": {
      "text/plain": [
       "'/home/jupyter/kaggle-otto-recommender-2022/data'"
      ]
     },
     "execution_count": 35,
     "metadata": {},
     "output_type": "execute_result"
    }
   ],
   "source": [
    "data_path"
   ]
  },
  {
   "cell_type": "code",
   "execution_count": 36,
   "metadata": {},
   "outputs": [
    {
     "data": {
      "text/plain": [
       "'/home/jupyter/kaggle-otto-recommender-2022'"
      ]
     },
     "execution_count": 36,
     "metadata": {},
     "output_type": "execute_result"
    }
   ],
   "source": [
    "path_to_module"
   ]
  },
  {
   "cell_type": "code",
   "execution_count": 37,
   "metadata": {
    "id": "rgw3DUBDx7hN"
   },
   "outputs": [
    {
     "name": "stdout",
     "output_type": "stream",
     "text": [
      "/home/jupyter/kaggle-otto-recommender-2022/data\n"
     ]
    }
   ],
   "source": [
    "if local:\n",
    "  from google.colab import drive\n",
    "  drive.mount('/content/drive')\n",
    "  %cd /content/drive/MyDrive/'Kaggle Otto Reccommender'/data\n",
    "  path_to_module = '/content/drive/MyDrive/Kaggle Otto Reccommender/'\n",
    "else:\n",
    "  # !mkdir /my_mnt_dir\n",
    "  # !google-drive-ocamlfuse /my_mnt_dir\n",
    "  %cd {data_path}\n",
    "  # path_to_module = '/home/jupyter/kaggle-otto-recommender-2022'\n",
    "\n",
    "import sys    \n",
    "sys.path.append(path_to_module)"
   ]
  },
  {
   "cell_type": "code",
   "execution_count": 38,
   "metadata": {},
   "outputs": [],
   "source": [
    "# path_to_module"
   ]
  },
  {
   "cell_type": "code",
   "execution_count": 39,
   "metadata": {
    "id": "bbpCdPcQOMqe"
   },
   "outputs": [],
   "source": [
    "import glob\n",
    "import numpy as np\n",
    "import pandas as pd\n",
    "import gc\n",
    "from tqdm import tqdm\n",
    "from otto_utils import get_train, get_test, convert_columns, make_directory\n",
    "import os"
   ]
  },
  {
   "cell_type": "code",
   "execution_count": 40,
   "metadata": {
    "id": "ExzF1gWlEUUK"
   },
   "outputs": [
    {
     "name": "stdout",
     "output_type": "stream",
     "text": [
      "Requirement already satisfied: fastparquet in /opt/conda/lib/python3.7/site-packages (0.8.1)\n",
      "Requirement already satisfied: pandas>=1.1.0 in /opt/conda/lib/python3.7/site-packages (from fastparquet) (1.3.5)\n",
      "Requirement already satisfied: numpy>=1.18 in /opt/conda/lib/python3.7/site-packages (from fastparquet) (1.21.6)\n",
      "Requirement already satisfied: fsspec in /opt/conda/lib/python3.7/site-packages (from fastparquet) (2023.1.0)\n",
      "Requirement already satisfied: cramjam>=2.3.0 in /opt/conda/lib/python3.7/site-packages (from fastparquet) (2.6.2)\n",
      "Requirement already satisfied: pytz>=2017.3 in /opt/conda/lib/python3.7/site-packages (from pandas>=1.1.0->fastparquet) (2022.7.1)\n",
      "Requirement already satisfied: python-dateutil>=2.7.3 in /opt/conda/lib/python3.7/site-packages (from pandas>=1.1.0->fastparquet) (2.8.2)\n",
      "Requirement already satisfied: six>=1.5 in /opt/conda/lib/python3.7/site-packages (from python-dateutil>=2.7.3->pandas>=1.1.0->fastparquet) (1.16.0)\n",
      "\u001b[33mWARNING: Running pip as the 'root' user can result in broken permissions and conflicting behaviour with the system package manager. It is recommended to use a virtual environment instead: https://pip.pypa.io/warnings/venv\u001b[0m\u001b[33m\n",
      "\u001b[0m"
     ]
    }
   ],
   "source": [
    "!pip install fastparquet"
   ]
  },
  {
   "cell_type": "code",
   "execution_count": 41,
   "metadata": {
    "id": "wJuOKZmKTHVb"
   },
   "outputs": [],
   "source": [
    "\n",
    "path_to_candidate_features = './train_candidate_features' if validation else './test_candidate_features'\n",
    "make_directory(path_to_candidate_features)\n",
    "make_directory(f'{path_to_candidate_features}/covisitation_parquet')\n",
    "make_directory(f'{path_to_candidate_features}/cart_order_parquet')\n",
    "make_directory(f'{path_to_candidate_features}/also_buy_parquet')\n",
    "n=20"
   ]
  },
  {
   "cell_type": "code",
   "execution_count": 42,
   "metadata": {},
   "outputs": [
    {
     "data": {
      "text/plain": [
       "'./train_candidate_features'"
      ]
     },
     "execution_count": 42,
     "metadata": {},
     "output_type": "execute_result"
    }
   ],
   "source": [
    "path_to_candidate_features"
   ]
  },
  {
   "cell_type": "code",
   "execution_count": 43,
   "metadata": {},
   "outputs": [
    {
     "data": {
      "text/plain": [
       "'/home/jupyter/kaggle-otto-recommender-2022/data'"
      ]
     },
     "execution_count": 43,
     "metadata": {},
     "output_type": "execute_result"
    }
   ],
   "source": [
    "%pwd"
   ]
  },
  {
   "cell_type": "markdown",
   "metadata": {
    "tags": []
   },
   "source": [
    "## Read data "
   ]
  },
  {
   "cell_type": "code",
   "execution_count": 44,
   "metadata": {
    "id": "DbyydmmcNB80",
    "tags": []
   },
   "outputs": [],
   "source": [
    "reduced_df = pd.concat([get_train(validation=validation, sample_prop=sample_prop), get_test(validation=validation, sample_prop=sample_prop)])\n",
    "reduced_df['ts'] = reduced_df['ts'] / 1000\n",
    "reduced_df['ts'] = reduced_df['ts'].astype('int32')"
   ]
  },
  {
   "cell_type": "code",
   "execution_count": 45,
   "metadata": {
    "id": "FjqDOBh6ttXX"
   },
   "outputs": [],
   "source": [
    "reduced_df = convert_columns(reduced_df)"
   ]
  },
  {
   "cell_type": "code",
   "execution_count": 46,
   "metadata": {
    "id": "BE56LzDP714K"
   },
   "outputs": [],
   "source": [
    "sessions = reduced_df['session'].unique()\n",
    "sessions.sort()\n",
    "aids = reduced_df['aid'].unique()\n",
    "aids.sort()\n",
    "\n",
    "session_lists = [np_array.tolist() for np_array in np.array_split(np.array(sessions), int(reduced_df.shape[0]*200 / 163955180)) ]\n",
    "aid_lists = [np_array.tolist() for np_array in np.array_split(np.array(aids), int(reduced_df.shape[0]*100 / 163955180)) ]\n",
    "max_ts = 1662328791\n",
    "min_ts = 1659304800\n",
    "diff_ts = max_ts - min_ts"
   ]
  },
  {
   "cell_type": "code",
   "execution_count": 47,
   "metadata": {
    "id": "2hGT0nQQv3D_"
   },
   "outputs": [
    {
     "name": "stderr",
     "output_type": "stream",
     "text": [
      "100% 209/209 [01:18<00:00,  2.66it/s]\n"
     ]
    }
   ],
   "source": [
    "sorted_chunks = []\n",
    "for session_list in tqdm(session_lists):\n",
    "  chunk = reduced_df[(reduced_df['session'] >= min(session_list)) & (reduced_df['session'] <= max(session_list))]\n",
    "  chunk = chunk.sort_values(['session','ts'],ascending=[True,False])\n",
    "  chunk = chunk.reset_index(drop=True)\n",
    "  chunk['n'] = chunk.groupby('session').cumcount()\n",
    "  chunk = chunk.loc[chunk.n<30].drop('n',axis=1)\n",
    "  sorted_chunks.append(chunk)\n",
    "reduced_df = pd.concat(sorted_chunks)\n",
    "del sorted_chunks"
   ]
  },
  {
   "cell_type": "code",
   "execution_count": 51,
   "metadata": {},
   "outputs": [
    {
     "data": {
      "text/plain": [
       "(115162296, 4)"
      ]
     },
     "execution_count": 51,
     "metadata": {},
     "output_type": "execute_result"
    }
   ],
   "source": [
    "reduced_df.shape"
   ]
  },
  {
   "cell_type": "markdown",
   "metadata": {
    "tags": []
   },
   "source": [
    "## Matrix 1 "
   ]
  },
  {
   "cell_type": "markdown",
   "metadata": {
    "id": "Whtc1gRL7Vyh"
   },
   "source": [
    "Build the clicks/cart/order to clicks/cart/order covisitation matrix weighted towards things happening more recently. "
   ]
  },
  {
   "cell_type": "code",
   "execution_count": 6,
   "metadata": {},
   "outputs": [
    {
     "name": "stdout",
     "output_type": "stream",
     "text": [
      "10_lightgbm_inference.ipynb\t\t8_evaulate_model.ipynb\n",
      "11_combine_candidates_and_submit.ipynb\t9_xgboost_inference.ipynb\n",
      "1_get_data.ipynb\t\t\tREADME.md\n",
      "2_generate_covisitation_matrix.ipynb\t__pycache__\n",
      "3_generate_candidates_parquets.ipynb\tconfig.py\n",
      "4_merge_candidates.ipynb\t\tdata\n",
      "5_add_features.ipynb\t\t\tdocs\n",
      "6_train_xgboost.ipynb\t\t\tkaggle.json\n",
      "7_train_lightgbm.ipynb\t\t\totto_utils.py\n"
     ]
    }
   ],
   "source": [
    "! ls"
   ]
  },
  {
   "cell_type": "code",
   "execution_count": 7,
   "metadata": {},
   "outputs": [
    {
     "name": "stdout",
     "output_type": "stream",
     "text": [
      "wgt_covisitation_0_top20.parquet  wgt_covisitation_2_top20.parquet\n",
      "wgt_covisitation_1_top20.parquet  wgt_covisitation_3_top20.parquet\n"
     ]
    }
   ],
   "source": [
    "ls data/train_candidate_features/covisitation_parquet/"
   ]
  },
  {
   "cell_type": "code",
   "execution_count": 8,
   "metadata": {},
   "outputs": [],
   "source": [
    "! rm data/train_candidate_features/covisitation_parquet/*"
   ]
  },
  {
   "cell_type": "code",
   "execution_count": 49,
   "metadata": {
    "id": "ioT9gteQTZBv"
   },
   "outputs": [
    {
     "name": "stderr",
     "output_type": "stream",
     "text": [
      "  4% 4/104 [02:21<58:52, 35.33s/it]\n"
     ]
    },
    {
     "ename": "KeyboardInterrupt",
     "evalue": "",
     "output_type": "error",
     "traceback": [
      "\u001b[0;31m---------------------------------------------------------------------------\u001b[0m",
      "\u001b[0;31mKeyboardInterrupt\u001b[0m                         Traceback (most recent call last)",
      "\u001b[0;32m/tmp/ipykernel_129/1676400992.py\u001b[0m in \u001b[0;36m<module>\u001b[0;34m\u001b[0m\n\u001b[1;32m      3\u001b[0m \u001b[0;34m\u001b[0m\u001b[0m\n\u001b[1;32m      4\u001b[0m   \u001b[0;32mfor\u001b[0m \u001b[0msession_list\u001b[0m \u001b[0;32min\u001b[0m \u001b[0msession_lists\u001b[0m\u001b[0;34m:\u001b[0m\u001b[0;34m\u001b[0m\u001b[0;34m\u001b[0m\u001b[0m\n\u001b[0;32m----> 5\u001b[0;31m     \u001b[0mdf\u001b[0m \u001b[0;34m=\u001b[0m \u001b[0mreduced_df\u001b[0m\u001b[0;34m[\u001b[0m\u001b[0;34m(\u001b[0m\u001b[0mreduced_df\u001b[0m\u001b[0;34m[\u001b[0m\u001b[0;34m'session'\u001b[0m\u001b[0;34m]\u001b[0m \u001b[0;34m>=\u001b[0m \u001b[0mmin\u001b[0m\u001b[0;34m(\u001b[0m\u001b[0msession_list\u001b[0m\u001b[0;34m)\u001b[0m\u001b[0;34m)\u001b[0m \u001b[0;34m&\u001b[0m \u001b[0;34m(\u001b[0m\u001b[0mreduced_df\u001b[0m\u001b[0;34m[\u001b[0m\u001b[0;34m'session'\u001b[0m\u001b[0;34m]\u001b[0m \u001b[0;34m<=\u001b[0m \u001b[0mmax\u001b[0m\u001b[0;34m(\u001b[0m\u001b[0msession_list\u001b[0m\u001b[0;34m)\u001b[0m\u001b[0;34m)\u001b[0m\u001b[0;34m]\u001b[0m\u001b[0;34m\u001b[0m\u001b[0;34m\u001b[0m\u001b[0m\n\u001b[0m\u001b[1;32m      6\u001b[0m     tmp = (\n\u001b[1;32m      7\u001b[0m         \u001b[0mdf\u001b[0m\u001b[0;34m.\u001b[0m\u001b[0mloc\u001b[0m\u001b[0;34m[\u001b[0m\u001b[0;34m(\u001b[0m\u001b[0mdf\u001b[0m\u001b[0;34m[\u001b[0m\u001b[0;34m'aid'\u001b[0m\u001b[0;34m]\u001b[0m \u001b[0;34m>=\u001b[0m \u001b[0mmin\u001b[0m\u001b[0;34m(\u001b[0m\u001b[0maid_list\u001b[0m\u001b[0;34m)\u001b[0m\u001b[0;34m)\u001b[0m \u001b[0;34m&\u001b[0m \u001b[0;34m(\u001b[0m\u001b[0mdf\u001b[0m\u001b[0;34m[\u001b[0m\u001b[0;34m'aid'\u001b[0m\u001b[0;34m]\u001b[0m \u001b[0;34m<=\u001b[0m \u001b[0mmax\u001b[0m\u001b[0;34m(\u001b[0m\u001b[0maid_list\u001b[0m\u001b[0;34m)\u001b[0m\u001b[0;34m)\u001b[0m\u001b[0;34m]\u001b[0m\u001b[0;34m\u001b[0m\u001b[0;34m\u001b[0m\u001b[0m\n",
      "\u001b[0;32m/opt/conda/lib/python3.7/site-packages/pandas/core/ops/common.py\u001b[0m in \u001b[0;36mnew_method\u001b[0;34m(self, other)\u001b[0m\n\u001b[1;32m     67\u001b[0m         \u001b[0mother\u001b[0m \u001b[0;34m=\u001b[0m \u001b[0mitem_from_zerodim\u001b[0m\u001b[0;34m(\u001b[0m\u001b[0mother\u001b[0m\u001b[0;34m)\u001b[0m\u001b[0;34m\u001b[0m\u001b[0;34m\u001b[0m\u001b[0m\n\u001b[1;32m     68\u001b[0m \u001b[0;34m\u001b[0m\u001b[0m\n\u001b[0;32m---> 69\u001b[0;31m         \u001b[0;32mreturn\u001b[0m \u001b[0mmethod\u001b[0m\u001b[0;34m(\u001b[0m\u001b[0mself\u001b[0m\u001b[0;34m,\u001b[0m \u001b[0mother\u001b[0m\u001b[0;34m)\u001b[0m\u001b[0;34m\u001b[0m\u001b[0;34m\u001b[0m\u001b[0m\n\u001b[0m\u001b[1;32m     70\u001b[0m \u001b[0;34m\u001b[0m\u001b[0m\n\u001b[1;32m     71\u001b[0m     \u001b[0;32mreturn\u001b[0m \u001b[0mnew_method\u001b[0m\u001b[0;34m\u001b[0m\u001b[0;34m\u001b[0m\u001b[0m\n",
      "\u001b[0;32m/opt/conda/lib/python3.7/site-packages/pandas/core/arraylike.py\u001b[0m in \u001b[0;36m__and__\u001b[0;34m(self, other)\u001b[0m\n\u001b[1;32m     60\u001b[0m     \u001b[0;34m@\u001b[0m\u001b[0munpack_zerodim_and_defer\u001b[0m\u001b[0;34m(\u001b[0m\u001b[0;34m\"__and__\"\u001b[0m\u001b[0;34m)\u001b[0m\u001b[0;34m\u001b[0m\u001b[0;34m\u001b[0m\u001b[0m\n\u001b[1;32m     61\u001b[0m     \u001b[0;32mdef\u001b[0m \u001b[0m__and__\u001b[0m\u001b[0;34m(\u001b[0m\u001b[0mself\u001b[0m\u001b[0;34m,\u001b[0m \u001b[0mother\u001b[0m\u001b[0;34m)\u001b[0m\u001b[0;34m:\u001b[0m\u001b[0;34m\u001b[0m\u001b[0;34m\u001b[0m\u001b[0m\n\u001b[0;32m---> 62\u001b[0;31m         \u001b[0;32mreturn\u001b[0m \u001b[0mself\u001b[0m\u001b[0;34m.\u001b[0m\u001b[0m_logical_method\u001b[0m\u001b[0;34m(\u001b[0m\u001b[0mother\u001b[0m\u001b[0;34m,\u001b[0m \u001b[0moperator\u001b[0m\u001b[0;34m.\u001b[0m\u001b[0mand_\u001b[0m\u001b[0;34m)\u001b[0m\u001b[0;34m\u001b[0m\u001b[0;34m\u001b[0m\u001b[0m\n\u001b[0m\u001b[1;32m     63\u001b[0m \u001b[0;34m\u001b[0m\u001b[0m\n\u001b[1;32m     64\u001b[0m     \u001b[0;34m@\u001b[0m\u001b[0munpack_zerodim_and_defer\u001b[0m\u001b[0;34m(\u001b[0m\u001b[0;34m\"__rand__\"\u001b[0m\u001b[0;34m)\u001b[0m\u001b[0;34m\u001b[0m\u001b[0;34m\u001b[0m\u001b[0m\n",
      "\u001b[0;32m/opt/conda/lib/python3.7/site-packages/pandas/core/series.py\u001b[0m in \u001b[0;36m_logical_method\u001b[0;34m(self, other, op)\u001b[0m\n\u001b[1;32m   5511\u001b[0m         \u001b[0mrvalues\u001b[0m \u001b[0;34m=\u001b[0m \u001b[0mextract_array\u001b[0m\u001b[0;34m(\u001b[0m\u001b[0mother\u001b[0m\u001b[0;34m,\u001b[0m \u001b[0mextract_numpy\u001b[0m\u001b[0;34m=\u001b[0m\u001b[0;32mTrue\u001b[0m\u001b[0;34m,\u001b[0m \u001b[0mextract_range\u001b[0m\u001b[0;34m=\u001b[0m\u001b[0;32mTrue\u001b[0m\u001b[0;34m)\u001b[0m\u001b[0;34m\u001b[0m\u001b[0;34m\u001b[0m\u001b[0m\n\u001b[1;32m   5512\u001b[0m \u001b[0;34m\u001b[0m\u001b[0m\n\u001b[0;32m-> 5513\u001b[0;31m         \u001b[0mres_values\u001b[0m \u001b[0;34m=\u001b[0m \u001b[0mops\u001b[0m\u001b[0;34m.\u001b[0m\u001b[0mlogical_op\u001b[0m\u001b[0;34m(\u001b[0m\u001b[0mlvalues\u001b[0m\u001b[0;34m,\u001b[0m \u001b[0mrvalues\u001b[0m\u001b[0;34m,\u001b[0m \u001b[0mop\u001b[0m\u001b[0;34m)\u001b[0m\u001b[0;34m\u001b[0m\u001b[0;34m\u001b[0m\u001b[0m\n\u001b[0m\u001b[1;32m   5514\u001b[0m         \u001b[0;32mreturn\u001b[0m \u001b[0mself\u001b[0m\u001b[0;34m.\u001b[0m\u001b[0m_construct_result\u001b[0m\u001b[0;34m(\u001b[0m\u001b[0mres_values\u001b[0m\u001b[0;34m,\u001b[0m \u001b[0mname\u001b[0m\u001b[0;34m=\u001b[0m\u001b[0mres_name\u001b[0m\u001b[0;34m)\u001b[0m\u001b[0;34m\u001b[0m\u001b[0;34m\u001b[0m\u001b[0m\n\u001b[1;32m   5515\u001b[0m \u001b[0;34m\u001b[0m\u001b[0m\n",
      "\u001b[0;32m/opt/conda/lib/python3.7/site-packages/pandas/core/ops/array_ops.py\u001b[0m in \u001b[0;36mlogical_op\u001b[0;34m(left, right, op)\u001b[0m\n\u001b[1;32m    390\u001b[0m         \u001b[0mfiller\u001b[0m \u001b[0;34m=\u001b[0m \u001b[0mfill_int\u001b[0m \u001b[0;32mif\u001b[0m \u001b[0mis_self_int_dtype\u001b[0m \u001b[0;32mand\u001b[0m \u001b[0mis_other_int_dtype\u001b[0m \u001b[0;32melse\u001b[0m \u001b[0mfill_bool\u001b[0m\u001b[0;34m\u001b[0m\u001b[0;34m\u001b[0m\u001b[0m\n\u001b[1;32m    391\u001b[0m \u001b[0;34m\u001b[0m\u001b[0m\n\u001b[0;32m--> 392\u001b[0;31m         \u001b[0mres_values\u001b[0m \u001b[0;34m=\u001b[0m \u001b[0mna_logical_op\u001b[0m\u001b[0;34m(\u001b[0m\u001b[0mlvalues\u001b[0m\u001b[0;34m,\u001b[0m \u001b[0mrvalues\u001b[0m\u001b[0;34m,\u001b[0m \u001b[0mop\u001b[0m\u001b[0;34m)\u001b[0m\u001b[0;34m\u001b[0m\u001b[0;34m\u001b[0m\u001b[0m\n\u001b[0m\u001b[1;32m    393\u001b[0m         \u001b[0;31m# error: Cannot call function of unknown type\u001b[0m\u001b[0;34m\u001b[0m\u001b[0;34m\u001b[0m\u001b[0;34m\u001b[0m\u001b[0m\n\u001b[1;32m    394\u001b[0m         \u001b[0mres_values\u001b[0m \u001b[0;34m=\u001b[0m \u001b[0mfiller\u001b[0m\u001b[0;34m(\u001b[0m\u001b[0mres_values\u001b[0m\u001b[0;34m)\u001b[0m  \u001b[0;31m# type: ignore[operator]\u001b[0m\u001b[0;34m\u001b[0m\u001b[0;34m\u001b[0m\u001b[0m\n",
      "\u001b[0;32m/opt/conda/lib/python3.7/site-packages/pandas/core/ops/array_ops.py\u001b[0m in \u001b[0;36mna_logical_op\u001b[0;34m(x, y, op)\u001b[0m\n\u001b[1;32m    300\u001b[0m         \u001b[0;31m# Then Cases where this goes through without raising include:\u001b[0m\u001b[0;34m\u001b[0m\u001b[0;34m\u001b[0m\u001b[0;34m\u001b[0m\u001b[0m\n\u001b[1;32m    301\u001b[0m         \u001b[0;31m#  (xint or xbool) and (yint or bool)\u001b[0m\u001b[0;34m\u001b[0m\u001b[0;34m\u001b[0m\u001b[0;34m\u001b[0m\u001b[0m\n\u001b[0;32m--> 302\u001b[0;31m         \u001b[0mresult\u001b[0m \u001b[0;34m=\u001b[0m \u001b[0mop\u001b[0m\u001b[0;34m(\u001b[0m\u001b[0mx\u001b[0m\u001b[0;34m,\u001b[0m \u001b[0my\u001b[0m\u001b[0;34m)\u001b[0m\u001b[0;34m\u001b[0m\u001b[0;34m\u001b[0m\u001b[0m\n\u001b[0m\u001b[1;32m    303\u001b[0m     \u001b[0;32mexcept\u001b[0m \u001b[0mTypeError\u001b[0m\u001b[0;34m:\u001b[0m\u001b[0;34m\u001b[0m\u001b[0;34m\u001b[0m\u001b[0m\n\u001b[1;32m    304\u001b[0m         \u001b[0;32mif\u001b[0m \u001b[0misinstance\u001b[0m\u001b[0;34m(\u001b[0m\u001b[0my\u001b[0m\u001b[0;34m,\u001b[0m \u001b[0mnp\u001b[0m\u001b[0;34m.\u001b[0m\u001b[0mndarray\u001b[0m\u001b[0;34m)\u001b[0m\u001b[0;34m:\u001b[0m\u001b[0;34m\u001b[0m\u001b[0;34m\u001b[0m\u001b[0m\n",
      "\u001b[0;31mKeyboardInterrupt\u001b[0m: "
     ]
    }
   ],
   "source": [
    "for i, aid_list in enumerate(tqdm(aid_lists)):\n",
    "  tmp_list = []\n",
    "\n",
    "  for session_list in session_lists:\n",
    "    df = reduced_df[(reduced_df['session'] >= min(session_list)) & (reduced_df['session'] <= max(session_list))]\n",
    "    tmp = (\n",
    "        df.loc[(df['aid'] >= min(aid_list)) & (df['aid'] <= max(aid_list))]\n",
    "        .merge(df,\n",
    "              how = 'inner',\n",
    "              on = 'session')\n",
    "    )\n",
    "    tmp = (\n",
    "        tmp\n",
    "        .loc[ ((tmp.ts_x - tmp.ts_y).abs() < 24 * 60 * 60) & (tmp.aid_x != tmp.aid_y) ]\n",
    "        .drop_duplicates(['session', 'aid_x', 'aid_y'])\n",
    "    )\n",
    "    tmp['wgt'] = 1 + 3 * (tmp.ts_x - min_ts) / diff_ts\n",
    "    tmp = (\n",
    "        tmp.groupby(['aid_x', 'aid_y'], as_index=False)\n",
    "        .agg({'wgt' : 'sum'})\n",
    "        .rename(columns={'wgt' : 'pairings'})\n",
    "    )\n",
    "    tmp['pairings'] = tmp['pairings'].astype('float32')\n",
    "    tmp_list.append(tmp)\n",
    "  out = pd.concat(tmp_list)\n",
    "  out = (\n",
    "      pd.concat(tmp_list)\n",
    "      .groupby(['aid_x', 'aid_y'], as_index=False)\n",
    "      .agg({'pairings' : 'sum'})\n",
    "      .sort_values(by=['aid_x', 'pairings'], ascending=[True, False])\n",
    "  )\n",
    "\n",
    "  out['n'] = out.groupby(['aid_x']).cumcount() + 1\n",
    "  out = out.loc[out['n'] <= n]\n",
    "  for column in ['aid_x', 'aid_y']:\n",
    "    out[column] = out[column].astype('int32')\n",
    "  out.to_parquet(f'{path_to_candidate_features}/covisitation_parquet/wgt_covisitation_{i}_top{n}.parquet', index=False)\n",
    "  del tmp_list, out"
   ]
  },
  {
   "cell_type": "markdown",
   "metadata": {
    "id": "kWfk0ELK7emM"
   },
   "source": [
    "Build the clicks/cart/order to clicks/cart/order weighted towards carts/orders matrix weighted by the type of interaction"
   ]
  },
  {
   "cell_type": "markdown",
   "metadata": {},
   "source": [
    "## Covisitation Matrix "
   ]
  },
  {
   "cell_type": "code",
   "execution_count": null,
   "metadata": {
    "id": "Z6vjqfnFSvYw"
   },
   "outputs": [],
   "source": [
    "type_weight_map = {\n",
    "    'clicks' : 1,\n",
    "    'carts' : 6,\n",
    "    'orders' : 3\n",
    "}\n",
    "\n",
    "for i, aid_list in enumerate(tqdm(aid_lists)):\n",
    "  tmp_list = []\n",
    "\n",
    "  for session_list in session_lists:\n",
    "    df = reduced_df[(reduced_df['session'] >= min(session_list)) & (reduced_df['session'] <= max(session_list))]\n",
    "    tmp = (\n",
    "        df.loc[(df['aid'] >= min(aid_list)) & (df['aid'] <= max(aid_list))]\n",
    "        .merge(df,\n",
    "              how = 'inner',\n",
    "              on = 'session')\n",
    "    )\n",
    "    tmp = (\n",
    "        tmp\n",
    "        .loc[ ((tmp.ts_x - tmp.ts_y).abs() < 24 * 60 * 60) & (tmp.aid_x != tmp.aid_y) ]\n",
    "    )\n",
    "    tmp['wgt'] = tmp['type_y'].map(type_weight_map)\n",
    "    tmp = (\n",
    "        tmp.groupby(['aid_x', 'aid_y'], as_index=False)\n",
    "        .agg({'wgt' : 'sum'})\n",
    "        .rename(columns={'wgt' : 'pairings'})\n",
    "    )\n",
    "    tmp['pairings'] = tmp['pairings'].astype('int32')\n",
    "    tmp_list.append(tmp)\n",
    "  out = pd.concat(tmp_list)\n",
    "  out = (\n",
    "      pd.concat(tmp_list)\n",
    "      .groupby(['aid_x', 'aid_y'], as_index=False)\n",
    "      .agg({'pairings' : 'sum'})\n",
    "      .sort_values(by=['aid_x', 'pairings'], ascending=[True, False])\n",
    "  )\n",
    "\n",
    "  out['n'] = out.groupby(['aid_x']).cumcount() + 1\n",
    "  out = out.loc[out['n'] <= 15]\n",
    "\n",
    "  for column in ['aid_x', 'aid_y']:\n",
    "    out[column] = out[column].astype('int32')\n",
    "  out.to_parquet(f'{path_to_candidate_features}/cart_order_parquet/cart_order_top15_{i}.parquet', index=False)\n",
    "  \n",
    "  del tmp_list, out"
   ]
  },
  {
   "cell_type": "markdown",
   "metadata": {
    "id": "9BI2NtlG8Yuu"
   },
   "source": [
    "Build the covisitation of what people carted/ordered alongside carts and orders. E.g those that bought x also bought... "
   ]
  },
  {
   "cell_type": "code",
   "execution_count": null,
   "metadata": {},
   "outputs": [],
   "source": [
    "%pwd"
   ]
  },
  {
   "cell_type": "code",
   "execution_count": null,
   "metadata": {},
   "outputs": [],
   "source": [
    "! ls"
   ]
  },
  {
   "cell_type": "markdown",
   "metadata": {},
   "source": [
    "## Also Buy "
   ]
  },
  {
   "cell_type": "code",
   "execution_count": null,
   "metadata": {
    "id": "K1-ENh39FbfY"
   },
   "outputs": [],
   "source": [
    "session_lists = [np_array.tolist() for np_array in np.array_split(np.array(sessions), int(reduced_df.shape[0]*3 / 163955180)) ]\n",
    "aid_lists = [np_array.tolist() for np_array in np.array_split(np.array(aids), int(reduced_df.shape[0]*10 / 163955180)) ]"
   ]
  },
  {
   "cell_type": "code",
   "execution_count": null,
   "metadata": {
    "id": "it_GRoK8cjhC"
   },
   "outputs": [],
   "source": [
    "for i, aid_list in enumerate(tqdm(aid_lists)):\n",
    "  tmp_list = []\n",
    "\n",
    "  for session_list in session_lists:\n",
    "    df = reduced_df[(reduced_df['session'] >= min(session_list)) & (reduced_df['session'] <= max(session_list))]\n",
    "    df = df.loc[df['type'].isin(['carts', 'orders'])]\n",
    "    tmp = (\n",
    "        df.loc[(df['aid'] >= min(aid_list)) & (df['aid'] <= max(aid_list))]\n",
    "        .merge(df,\n",
    "              how = 'inner',\n",
    "              on = 'session')\n",
    "    )\n",
    "    tmp = (\n",
    "        tmp\n",
    "        .loc[ ((tmp.ts_x - tmp.ts_y).abs() < 14 * 24 * 60 * 60) & (tmp.aid_x != tmp.aid_y) ]\n",
    "    )\n",
    "    tmp['wgt'] = 1\n",
    "    tmp = (\n",
    "        tmp.groupby(['aid_x', 'aid_y'], as_index=False)\n",
    "        .agg({'wgt' : 'sum'})\n",
    "        .rename(columns={'wgt' : 'pairings'})\n",
    "    )\n",
    "    tmp['pairings'] = tmp['pairings'].astype('int32')\n",
    "    tmp_list.append(tmp)\n",
    "  out = pd.concat(tmp_list)\n",
    "  out = (\n",
    "      pd.concat(tmp_list)\n",
    "      .groupby(['aid_x', 'aid_y'], as_index=False)\n",
    "      .agg({'pairings' : 'sum'})\n",
    "      .sort_values(by=['aid_x', 'pairings'], ascending=[True, False])\n",
    "  )\n",
    "\n",
    "  out['n'] = out.groupby(['aid_x']).cumcount() + 1\n",
    "  out = out.loc[out['n'] <= 15]\n",
    "\n",
    "  for column in ['aid_x', 'aid_y']:\n",
    "    out[column] = out[column].astype('int32')\n",
    "  out.to_parquet(f'{path_to_candidate_features}/also_buy_parquet/also_buy_top15_{i}.parquet', index=False)\n",
    "  \n",
    "  del tmp_list, out"
   ]
  },
  {
   "cell_type": "code",
   "execution_count": null,
   "metadata": {},
   "outputs": [],
   "source": [
    "path_to_candidate_features"
   ]
  }
 ],
 "metadata": {
  "colab": {
   "authorship_tag": "ABX9TyNSoRGgKYL5bDzuwHVceDPy",
   "machine_shape": "hm",
   "provenance": []
  },
  "gpuClass": "standard",
  "kernelspec": {
   "display_name": "Python 3 (ipykernel)",
   "language": "python",
   "name": "python3"
  },
  "language_info": {
   "codemirror_mode": {
    "name": "ipython",
    "version": 3
   },
   "file_extension": ".py",
   "mimetype": "text/x-python",
   "name": "python",
   "nbconvert_exporter": "python",
   "pygments_lexer": "ipython3",
   "version": "3.7.12"
  }
 },
 "nbformat": 4,
 "nbformat_minor": 4
}
